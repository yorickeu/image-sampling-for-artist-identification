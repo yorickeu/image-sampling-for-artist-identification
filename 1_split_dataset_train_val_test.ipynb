{
 "cells": [
  {
   "cell_type": "markdown",
   "metadata": {},
   "source": [
    "# 1 Split dataset in train, val & test"
   ]
  },
  {
   "cell_type": "markdown",
   "metadata": {},
   "source": [
    "This script seperates the selected artwork in a train, val & test set in a stratified manner."
   ]
  },
  {
   "cell_type": "code",
   "execution_count": 1,
   "metadata": {},
   "outputs": [],
   "source": [
    "import numpy as np\n",
    "import pandas as pd\n",
    "from sklearn.model_selection import train_test_split"
   ]
  },
  {
   "cell_type": "code",
   "execution_count": 2,
   "metadata": {},
   "outputs": [],
   "source": [
    "# Load selected artwork\n",
    "img_details = pd.read_csv('balanced_256.csv')"
   ]
  },
  {
   "cell_type": "code",
   "execution_count": 3,
   "metadata": {},
   "outputs": [
    {
     "data": {
      "text/html": [
       "<div>\n",
       "<style scoped>\n",
       "    .dataframe tbody tr th:only-of-type {\n",
       "        vertical-align: middle;\n",
       "    }\n",
       "\n",
       "    .dataframe tbody tr th {\n",
       "        vertical-align: top;\n",
       "    }\n",
       "\n",
       "    .dataframe thead th {\n",
       "        text-align: right;\n",
       "    }\n",
       "</style>\n",
       "<table border=\"1\" class=\"dataframe\">\n",
       "  <thead>\n",
       "    <tr style=\"text-align: right;\">\n",
       "      <th></th>\n",
       "      <th>filename</th>\n",
       "      <th>artist</th>\n",
       "    </tr>\n",
       "  </thead>\n",
       "  <tbody>\n",
       "    <tr>\n",
       "      <th>0</th>\n",
       "      <td>44067.jpg</td>\n",
       "      <td>Albert Bierstadt</td>\n",
       "    </tr>\n",
       "    <tr>\n",
       "      <th>1</th>\n",
       "      <td>59090.jpg</td>\n",
       "      <td>Albert Bierstadt</td>\n",
       "    </tr>\n",
       "    <tr>\n",
       "      <th>2</th>\n",
       "      <td>6401.jpg</td>\n",
       "      <td>Albert Bierstadt</td>\n",
       "    </tr>\n",
       "    <tr>\n",
       "      <th>3</th>\n",
       "      <td>73846.jpg</td>\n",
       "      <td>Albert Bierstadt</td>\n",
       "    </tr>\n",
       "    <tr>\n",
       "      <th>4</th>\n",
       "      <td>96907.jpg</td>\n",
       "      <td>Albert Bierstadt</td>\n",
       "    </tr>\n",
       "  </tbody>\n",
       "</table>\n",
       "</div>"
      ],
      "text/plain": [
       "    filename            artist\n",
       "0  44067.jpg  Albert Bierstadt\n",
       "1  59090.jpg  Albert Bierstadt\n",
       "2   6401.jpg  Albert Bierstadt\n",
       "3  73846.jpg  Albert Bierstadt\n",
       "4  96907.jpg  Albert Bierstadt"
      ]
     },
     "execution_count": 3,
     "metadata": {},
     "output_type": "execute_result"
    }
   ],
   "source": [
    "img_details.head()"
   ]
  },
  {
   "cell_type": "code",
   "execution_count": 4,
   "metadata": {},
   "outputs": [
    {
     "name": "stdout",
     "output_type": "stream",
     "text": [
      "Number of train classes: 69\n",
      "Number of valid classes: 69\n",
      "Number of test classes: 69\n",
      "Total number of training samples: 14076\n",
      "Total number of validation samples: 1794\n",
      "Total number of test samples: 1794\n"
     ]
    }
   ],
   "source": [
    "# Split the training dataset in ~80% train, ~10% validation and ~10% test\n",
    "train_valid, test = train_test_split(img_details, test_size=0.1015625, stratify=img_details[\"artist\"], random_state=20181125)\n",
    "train, valid = train_test_split(train_valid, test_size=0.1130434, stratify=train_valid[\"artist\"], random_state=20181125)\n",
    "\n",
    "print(\"Number of train classes: {:d}\".format(len(pd.unique(train[\"artist\"]))))\n",
    "print(\"Number of valid classes: {:d}\".format(len(pd.unique(valid[\"artist\"]))))\n",
    "print(\"Number of test classes: {:d}\".format(len(pd.unique(test[\"artist\"]))))\n",
    "print(\"Total number of training samples: {:d}\".format(len(train)))\n",
    "print(\"Total number of validation samples: {:d}\".format(len(valid)))\n",
    "print(\"Total number of test samples: {:d}\".format(len(test)))"
   ]
  },
  {
   "cell_type": "code",
   "execution_count": 8,
   "metadata": {},
   "outputs": [],
   "source": [
    "# Add column 'set' to each dataframe with set description\n",
    "train['set'] = 'train'\n",
    "valid['set'] = 'valid'\n",
    "test['set'] = 'test'"
   ]
  },
  {
   "cell_type": "code",
   "execution_count": 9,
   "metadata": {},
   "outputs": [
    {
     "name": "stdout",
     "output_type": "stream",
     "text": [
      "Number of classes: 69\n",
      "Number of splits: 3\n",
      "Total number of samples: 17664\n"
     ]
    }
   ],
   "source": [
    "# Merge train, val & test set in single dataframe\n",
    "selected_paintings_256_split = pd.concat([train, valid, test])\n",
    "print(\"Number of classes: {:d}\".format(len(pd.unique(selected_paintings_256_split[\"artist\"]))))\n",
    "print(\"Number of splits: {:d}\".format(len(pd.unique(selected_paintings_256_split[\"set\"]))))\n",
    "print(\"Total number of samples: {:d}\".format(len(selected_paintings_256_split)))"
   ]
  },
  {
   "cell_type": "code",
   "execution_count": 10,
   "metadata": {},
   "outputs": [
    {
     "data": {
      "text/html": [
       "<div>\n",
       "<style scoped>\n",
       "    .dataframe tbody tr th:only-of-type {\n",
       "        vertical-align: middle;\n",
       "    }\n",
       "\n",
       "    .dataframe tbody tr th {\n",
       "        vertical-align: top;\n",
       "    }\n",
       "\n",
       "    .dataframe thead th {\n",
       "        text-align: right;\n",
       "    }\n",
       "</style>\n",
       "<table border=\"1\" class=\"dataframe\">\n",
       "  <thead>\n",
       "    <tr style=\"text-align: right;\">\n",
       "      <th></th>\n",
       "      <th>filename</th>\n",
       "      <th>artist</th>\n",
       "      <th>set</th>\n",
       "    </tr>\n",
       "  </thead>\n",
       "  <tbody>\n",
       "    <tr>\n",
       "      <th>13761</th>\n",
       "      <td>39175.jpg</td>\n",
       "      <td>Peter Paul Rubens</td>\n",
       "      <td>train</td>\n",
       "    </tr>\n",
       "    <tr>\n",
       "      <th>3213</th>\n",
       "      <td>36949.jpg</td>\n",
       "      <td>Egon Schiele</td>\n",
       "      <td>train</td>\n",
       "    </tr>\n",
       "    <tr>\n",
       "      <th>11290</th>\n",
       "      <td>46722.jpg</td>\n",
       "      <td>Martiros Saryan</td>\n",
       "      <td>train</td>\n",
       "    </tr>\n",
       "    <tr>\n",
       "      <th>6205</th>\n",
       "      <td>9206.jpg</td>\n",
       "      <td>Gustave Loiseau</td>\n",
       "      <td>train</td>\n",
       "    </tr>\n",
       "    <tr>\n",
       "      <th>13685</th>\n",
       "      <td>80386.jpg</td>\n",
       "      <td>Peter Paul Rubens</td>\n",
       "      <td>train</td>\n",
       "    </tr>\n",
       "  </tbody>\n",
       "</table>\n",
       "</div>"
      ],
      "text/plain": [
       "        filename             artist    set\n",
       "13761  39175.jpg  Peter Paul Rubens  train\n",
       "3213   36949.jpg       Egon Schiele  train\n",
       "11290  46722.jpg    Martiros Saryan  train\n",
       "6205    9206.jpg    Gustave Loiseau  train\n",
       "13685  80386.jpg  Peter Paul Rubens  train"
      ]
     },
     "execution_count": 10,
     "metadata": {},
     "output_type": "execute_result"
    }
   ],
   "source": [
    "selected_paintings_256_split.head()"
   ]
  },
  {
   "cell_type": "code",
   "execution_count": 11,
   "metadata": {},
   "outputs": [],
   "source": [
    "selected_paintings_256_split.to_csv(\"balanced_256_split.csv\", index = False)"
   ]
  }
 ],
 "metadata": {
  "kernelspec": {
   "display_name": "TensorFlow-GPU-1",
   "language": "python",
   "name": "tf-gpu"
  },
  "language_info": {
   "codemirror_mode": {
    "name": "ipython",
    "version": 3
   },
   "file_extension": ".py",
   "mimetype": "text/x-python",
   "name": "python",
   "nbconvert_exporter": "python",
   "pygments_lexer": "ipython3",
   "version": "3.6.6"
  }
 },
 "nbformat": 4,
 "nbformat_minor": 2
}

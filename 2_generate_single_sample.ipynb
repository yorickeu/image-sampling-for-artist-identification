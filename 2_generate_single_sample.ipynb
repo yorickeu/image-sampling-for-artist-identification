{
 "cells": [
  {
   "cell_type": "markdown",
   "metadata": {},
   "source": [
    "# Create single (scaled) samples"
   ]
  },
  {
   "cell_type": "code",
   "execution_count": 1,
   "metadata": {},
   "outputs": [],
   "source": [
    "import sys\n",
    "import os\n",
    "import numpy as np\n",
    "import pandas as pd\n",
    "from PIL import Image\n",
    "import matplotlib.pyplot as plt\n",
    "from tqdm import tqdm"
   ]
  },
  {
   "cell_type": "code",
   "execution_count": 2,
   "metadata": {},
   "outputs": [],
   "source": [
    "# Source input directory with complete Painter by Numbers dataset\n",
    "input_dir_1 = os.getcwd() + '/data/painters/train/'\n",
    "input_dir_2 = os.getcwd() + '/data/painters/test/'"
   ]
  },
  {
   "cell_type": "code",
   "execution_count": 3,
   "metadata": {},
   "outputs": [],
   "source": [
    "# Output directory for 12 crops\n",
    "output_dir = os.getcwd() + '/data/single_crop/'\n",
    "if not os.path.exists(output_dir): os.makedirs(output_dir)"
   ]
  },
  {
   "cell_type": "code",
   "execution_count": 4,
   "metadata": {},
   "outputs": [],
   "source": [
    "def create_corner_crops(f):\n",
    "    s = 299           # Crop size\n",
    "    i = Image.open(f) # Open image\n",
    "    i = i.convert(mode='RGB')\n",
    "    w = i.width       # Image width\n",
    "    h = i.height      # Image height\n",
    "    ws = w - s        # Image width - crop size\n",
    "    hs = h - s        # Image height - crop size\n",
    "    \n",
    "    # Fix images which are too small\n",
    "    if w < s:\n",
    "        if w <= h:\n",
    "            i = i.resize((s,int((s/w)*h)), resample=True)\n",
    "            w = i.width       # New image width\n",
    "            h = i.height      # New image height\n",
    "            ws = w - s        # New image width - crop size\n",
    "            hs = h - s        # New image height - crop size\n",
    "    if h < s:\n",
    "        i = i.resize((int((s/h)*w),s), resample=True)\n",
    "        w = i.width       # New image width\n",
    "        h = i.height      # New image height\n",
    "        ws = w - s        # New image width - crop size\n",
    "        hs = h - s        # New image height - crop size\n",
    "\n",
    "    # Detect image orientation\n",
    "    if (w <= h): \n",
    "        l = i.crop(box=(0,int((h-w)/2),w,int(((h-w)/2)+w))) # Portrait orientation (or square)\n",
    "    else:\n",
    "        l = i.crop(box=(int((w-h)/2),0,int(((w-h)/2)+h),h)) # Landscape orientation\n",
    "\n",
    "    x1 = l.resize((s,s), resample=True) # Full painting cropped to square\n",
    "\n",
    "    return x1"
   ]
  },
  {
   "cell_type": "code",
   "execution_count": 5,
   "metadata": {},
   "outputs": [
    {
     "name": "stdout",
     "output_type": "stream",
     "text": [
      "Files total: 17664\n",
      "Artists: 69\n",
      "Sets: 3\n"
     ]
    }
   ],
   "source": [
    "# Load dataset selection\n",
    "img_details = pd.read_csv(os.getcwd() + '/data/balanced_256_split.csv')\n",
    "\n",
    "file_names = list(img_details['filename'].values)\n",
    "\n",
    "set_labels = list(img_details['set'].values)\n",
    "set_folders = np.unique(list(img_details['set']))\n",
    "\n",
    "artist_labels = list(img_details['artist'].values)\n",
    "artist_folders = np.unique(list(img_details['artist']))\n",
    "\n",
    "print('Files total:', len(file_names))\n",
    "print('Artists:', len(artist_folders))\n",
    "print('Sets:', len(set_folders))"
   ]
  },
  {
   "cell_type": "code",
   "execution_count": 7,
   "metadata": {},
   "outputs": [],
   "source": [
    "# Create output set folders and artist folders within\n",
    "for set_path in set_folders:\n",
    "    if not os.path.exists(output_dir + set_path + '/'):\n",
    "        os.makedirs(output_dir + set_path + '/')\n",
    "        \n",
    "    for artist_path in artist_folders:\n",
    "        if not os.path.exists(output_dir + set_path + '/' + artist_path + '/'):\n",
    "            os.makedirs(output_dir + set_path + '/' + artist_path + '/')"
   ]
  },
  {
   "cell_type": "code",
   "execution_count": null,
   "metadata": {
    "scrolled": true
   },
   "outputs": [],
   "source": [
    "for f in tqdm(range(len(file_names))):\n",
    "    \n",
    "    file_id = int(file_names[f][:-4])\n",
    "    current_set = set_labels[f]\n",
    "    current_artist = artist_labels[f]\n",
    "    \n",
    "    # Locate file in train or test folder of Painter by Numbers dataset\n",
    "    if os.path.isfile(input_dir_1 + file_names[f]):\n",
    "        input_dir = input_dir_1\n",
    "    else:\n",
    "        input_dir = input_dir_2\n",
    "    \n",
    "    f_x1 = '%s/%d.jpg'%(output_dir + current_set + '/' + current_artist, file_id)\n",
    "    \n",
    "    # skip if files exist\n",
    "    if os.path.isfile(f_x1): continue\n",
    "        \n",
    "    try:\n",
    "        x1 = create_corner_crops(input_dir + file_names[f])\n",
    "        \n",
    "        x1.save(f_x1, quality=100)\n",
    "\n",
    "    except:\n",
    "        print('!', file_names[f], sys.exc_info()[0], sys.exc_info()[1])"
   ]
  }
 ],
 "metadata": {
  "kernelspec": {
   "display_name": "TensorFlow-GPU-1",
   "language": "python",
   "name": "tf-gpu"
  },
  "language_info": {
   "codemirror_mode": {
    "name": "ipython",
    "version": 3
   },
   "file_extension": ".py",
   "mimetype": "text/x-python",
   "name": "python",
   "nbconvert_exporter": "python",
   "pygments_lexer": "ipython3",
   "version": "3.6.6"
  }
 },
 "nbformat": 4,
 "nbformat_minor": 2
}
